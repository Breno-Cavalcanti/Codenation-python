{
 "cells": [
  {
   "cell_type": "code",
   "execution_count": 1,
   "metadata": {},
   "outputs": [],
   "source": [
    "#importando as bibliotecas.\n",
    "import requests\n",
    "import json\n",
    "import pandas as pd"
   ]
  },
  {
   "cell_type": "code",
   "execution_count": 2,
   "metadata": {},
   "outputs": [],
   "source": [
    "# recebendo os dados do desafio(Irei filtrar, pois não quero divulgar meu Token)\n",
    "r = requests.get('https://api.codenation.dev/v1/challenge/dev-ps/generate-data?token=x')"
   ]
  },
  {
   "cell_type": "code",
   "execution_count": 4,
   "metadata": {},
   "outputs": [],
   "source": [
    "#armazenando os dados em uma variável.\n",
    "data = json.loads(r.content)"
   ]
  },
  {
   "cell_type": "code",
   "execution_count": 5,
   "metadata": {},
   "outputs": [
    {
     "name": "stdout",
     "output_type": "stream",
     "text": [
      "mfyj hfssty iwnaj tzy mfyj; tsqd qtaj hfs it ymfy. rfwyns qzymjw pnsl ozsntw\n"
     ]
    }
   ],
   "source": [
    "print(data['cifrado'])\n",
    "y = data['cifrado']"
   ]
  },
  {
   "cell_type": "code",
   "execution_count": 6,
   "metadata": {},
   "outputs": [
    {
     "data": {
      "text/plain": [
       "'hate cannot drive out hate; only love can do that. martin luther king junior'"
      ]
     },
     "execution_count": 6,
     "metadata": {},
     "output_type": "execute_result"
    }
   ],
   "source": [
    "\"\"\"\n",
    "Estou \"quebrando\" a criptografia da palavra usando os valores da tabela ascii.\n",
    "Primeiro verifico se o caractere que estou anlisando é uma letra, se for subtraio 5 (o valor da chave) do seu valor ascii atual\n",
    "e adicino ele ao decifrado.(OBS: se o valor for subtraido e for resultar algo que não é uma letra, o algortimo vai usar\n",
    "como base o Z, por exemplo, se o caractere for 'a', subtraindo de 5 o ascci de 'a' irá retornar /, para evitar isso, \n",
    "ele irá subtrair do ascii de z.)\n",
    "Se ele não for uma letra, simplesmente adiciono ele ao decrifrado\n",
    "\"\"\"\n",
    "decifrado = []\n",
    "for i in range(len(y)):\n",
    "    elemento = ord(y[i]) - 5\n",
    "    if(y[i].isalpha()):\n",
    "        if(elemento < 97):\n",
    "            novo_elemento = 122 - (97 - elemento) + 1\n",
    "            decifrado.append(chr(novo_elemento))\n",
    "        else:\n",
    "            decifrado.append(chr(elemento))\n",
    "    \n",
    "    else:\n",
    "        if(y[i].isspace()):\n",
    "            decifrado.append(' ')\n",
    "        else:\n",
    "            decifrado.append(y[i])\n",
    "        continue\n",
    "''.join(decifrado)"
   ]
  },
  {
   "cell_type": "code",
   "execution_count": 12,
   "metadata": {},
   "outputs": [],
   "source": [
    "#tornando a resposta em sha1\n",
    "import hashlib\n",
    "hashed = hashlib.sha1(decifrado.encode())"
   ]
  },
  {
   "cell_type": "code",
   "execution_count": 13,
   "metadata": {},
   "outputs": [],
   "source": [
    "decifrado = ''.join(decifrado)"
   ]
  },
  {
   "cell_type": "code",
   "execution_count": null,
   "metadata": {},
   "outputs": [],
   "source": [
    "#atualizando os campos do arquivo que será enviado\n",
    "data['decifrado'] = ''.join(decifrado)\n",
    "data['resumo_criptografico'] = hashed.hexdigest()\n",
    "data"
   ]
  },
  {
   "cell_type": "code",
   "execution_count": null,
   "metadata": {},
   "outputs": [],
   "source": [
    "#criando o arquivo e armazenando os valores da célula anterior.\n",
    "arquivo = open('answer.json', 'w')\n",
    "json.dump(answer, arquivo)\n",
    "arquivo.close()"
   ]
  },
  {
   "cell_type": "code",
   "execution_count": null,
   "metadata": {},
   "outputs": [],
   "source": [
    "#enviando o arquivo.\n",
    "token = 'AAA'\n",
    "params = {'token' : token}\n",
    "url2 = 'https://api.codenation.dev/v1/challenge/dev-ps/submit-solution'\n",
    "answer = {'answer': open('answer.json', 'rb')}\n",
    "re2 = requests.post(url2, files=answer, params=params)\n",
    "re2.status_code"
   ]
  },
  {
   "cell_type": "code",
   "execution_count": null,
   "metadata": {},
   "outputs": [],
   "source": [
    "#analisando a resposta\n",
    "re2.text"
   ]
  },
  {
   "cell_type": "code",
   "execution_count": null,
   "metadata": {},
   "outputs": [],
   "source": []
  }
 ],
 "metadata": {
  "kernelspec": {
   "display_name": "Python 3",
   "language": "python",
   "name": "python3"
  },
  "language_info": {
   "codemirror_mode": {
    "name": "ipython",
    "version": 3
   },
   "file_extension": ".py",
   "mimetype": "text/x-python",
   "name": "python",
   "nbconvert_exporter": "python",
   "pygments_lexer": "ipython3",
   "version": "3.7.6"
  }
 },
 "nbformat": 4,
 "nbformat_minor": 4
}